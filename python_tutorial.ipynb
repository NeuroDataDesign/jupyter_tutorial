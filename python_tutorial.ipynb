{
 "cells": [
  {
   "cell_type": "markdown",
   "metadata": {},
   "source": [
    "# Python Introduction\n",
    "\n",
    "\n",
    "## Setting up python\n",
    "\n",
    "Your machine should come preloaded with python.  You can check whether your machine has python with the following command:\n",
    "\n",
    "```\n",
    "$ which python\n",
    "/usr/bin/python\n",
    "$ python --version\n",
    "Python 2.7.12\n",
    "```\n",
    "\n",
    "However, if it does not, you can install python (on an ubuntu machine) with the following command:\n",
    "\n",
    "```\n",
    "sudo apt-get install -y python2-dev\n",
    "```\n",
    "\n",
    "or on mac following [this guide](http://docs.python-guide.org/en/latest/starting/install/osx/).\n",
    "\n",
    "## Setting up Pip\n",
    "\n",
    "Pip allows for the easy installation of python packages. To check if your machine has pip, run the following commands:\n",
    "```\n",
    "$ which pip\n",
    "/home/eric/.local/bin/pip\n",
    "$ pip --version\n",
    "pip 9.0.1\n",
    "```\n",
    "\n",
    "If you did not see an installed version of pip with the previous commands, you can install pip as follows:\n",
    "\n",
    "```\n",
    "$ wget https://bootstrap.pypa.io/get-pip.py\n",
    "$ python get-pip.py  # installs pip\n",
    "```\n",
    "\n",
    "## Installing some Basic Packages\n",
    "\n",
    "It is often useful to set up some default packages to python that all of our environments will likely need. In a minute, we will see why it is bad to install ALL packages here, but it is a good idea to get packages that most software will use on the base python installation:\n",
    "\n",
    "```\n",
    "$ pip install [packages]\n",
    "```\n",
    "\n",
    "\n",
    "## Setting up Virtualenv\n",
    "\n",
    "Virtual-env allows you to set up virtual environments within python seamlessly. With a language like python with thousands of available packages, it is disadvantageous to install all the packages at once in one environment, as python gets \"heavy\" (slow) when there are too many packages installed. To combat this issue, python provides virtual environments. Basically, a virtual environment adds to the base python environment an extension of packages. This means that you get all the packages installed to the base python environment, and also those installed only to your virtual environment. This allows you to have different python environments for different pieces of software. For example, one package might require numpy version 0.1.12, but another might require version 0.1.13. With virtual environments, you can have both on your system fairly seamlessly. Install virtualenv with the following command on ubuntu:\n",
    "\n",
    "```\n",
    "sudo apt-get install virtualenv\n",
    "```\n",
    "\n",
    "or the following command on mac:\n",
    "\n",
    "```\n",
    "pip install virtualenv\n",
    "```\n",
    "\n",
    "### Creating a new VirtualEnv\n",
    "\n",
    "Make a directory describing the name of your project. For example, create a new directory somewhere for this tutorial:\n",
    "\n",
    "```\n",
    "$ mkdir python-tutorial\n",
    "$ cd python-tutorial\n",
    "$ virtualenv env-tutorial -p python  # make a new python env called env-tutorial with the default python interpreter\n",
    "$ source env-tutorial/bin/activate  # set the environment to active\n",
    "(env-tutorial) $  # note that the environment is active to the left\n",
    "```\n",
    "\n",
    "Note that you can specify any p|ython environment here, so if you instead for instance wanted a python3 environment, you could specify that with:\n",
    "\n",
    "```\n",
    "virtualenv env-tutorial -p python3  # specify python3\n",
    "virtualenv env-tutorial -p /path/to/python/interpreter  # specify an interpreter of your choice\n",
    "```\n",
    "\n",
    "### Installing packages to the virtualenv\n",
    "\n",
    "Once the environment is sourced and set to active, your default \"python\" and \"pip\" commands point to the appropriate python/pip for the environment. We can install some basic packages as follows:\n",
    "\n",
    "```\n",
    "(env-tutorial) $ pip install numpy scipy jupyter ipython plotly colorlover\n",
    "```\n",
    "\n",
    "### Exiting the virtualenv\n",
    "\n",
    "To inactivate the virtual environment, run the following command:\n",
    "\n",
    "```\n",
    "(env-tutorial)$ deactivate\n",
    "$  # note that the environment is gone\n",
    "```\n",
    "\n",
    "# Python Tutorial\n",
    "\n",
    "In the below tutorial, we will discuss how to make basic sample data using scipy and numpy, and show some basic plots one might want to construct using plotly. First, we will write a basic function to create normally distributed timeseries data:"
   ]
  },
  {
   "cell_type": "code",
   "execution_count": 23,
   "metadata": {},
   "outputs": [
    {
     "data": {
      "text/html": [
       "<script>requirejs.config({paths: { 'plotly': ['https://cdn.plot.ly/plotly-latest.min']},});if(!window.Plotly) {{require(['plotly'],function(plotly) {window.Plotly=plotly;});}}</script>"
      ],
      "text/plain": [
       "<IPython.core.display.HTML object>"
      ]
     },
     "metadata": {},
     "output_type": "display_data"
    },
    {
     "data": {
      "text/html": [
       "<div id=\"5f7f2ffc-98c9-4a97-be2f-d8f3dac34a16\" style=\"height: 525; width: 100%;\" class=\"plotly-graph-div\"></div><script type=\"text/javascript\">require([\"plotly\"], function(Plotly) { window.PLOTLYENV=window.PLOTLYENV || {};window.PLOTLYENV.BASE_URL=\"https://plot.ly\";Plotly.newPlot(\"5f7f2ffc-98c9-4a97-be2f-d8f3dac34a16\", [{\"showlegend\": true, \"legendgroup\": \"0\", \"name\": \"0\", \"y\": [0.8626656242491945, -0.14058322436110945, -0.10480285529828647, 0.5020831937039201, -0.3910533382271789, 0.07706703214367647, 0.33496125119529, -2.1320034514221544, -1.0365405439394917, -0.5599905134540718, 0.41492878196778865, 0.8018717526803221, -0.48922780376514496, 1.296416795517187, 0.5723033724837854, -1.30979414634041, -0.09621637392855409, -0.5954679822764081, 0.8296611274382608, -0.8013479250802523], \"x\": [1.0, 2.0, 3.0, 4.0, 5.0, 6.0, 7.0, 8.0, 9.0, 10.0, 11.0, 12.0, 13.0, 14.0, 15.0, 16.0, 17.0, 18.0, 19.0, 20.0], \"line\": {\"color\": \"rgb(247,252,253)\"}, \"type\": \"scatter\"}, {\"showlegend\": true, \"legendgroup\": \"1\", \"name\": \"1\", \"y\": [2.4120544549144096, 0.9084097308110843, 0.12749009103860398, 1.6203438480599535, 1.1766139083843676, -0.04075183436682561, 1.2483995248668194, 1.608647493447514, 0.5204287828183605, 0.9647719628496629, 0.7396419491517223, -0.024879194539927152, -0.16000851265406246, 1.2522582809280374, 1.1256312585910848, 1.9176438294653533, -1.4590546225088015, 0.4464810727759424, 0.7965543412725568, -0.5117217686001008], \"x\": [1.0, 2.0, 3.0, 4.0, 5.0, 6.0, 7.0, 8.0, 9.0, 10.0, 11.0, 12.0, 13.0, 14.0, 15.0, 16.0, 17.0, 18.0, 19.0, 20.0], \"line\": {\"color\": \"rgb(224,236,244)\"}, \"type\": \"scatter\"}, {\"showlegend\": true, \"legendgroup\": \"2\", \"name\": \"2\", \"y\": [1.4730352078193847, 1.2211037643633063, 1.2865669883983333, 2.534656572955607, 3.192731680182348, 2.5866616155040876, 2.5472744136387986, 1.1948804842916765, 2.0088236720205024, 2.5289607005508117, 2.470214647546093, 1.6757187882238056, 1.2420601365817978, 2.0254319847431854, 2.4172447041779908, 2.4099416840474497, 4.0351414179909675, 1.8433904456177137, 2.4929316010540052, 4.34410329943418], \"x\": [1.0, 2.0, 3.0, 4.0, 5.0, 6.0, 7.0, 8.0, 9.0, 10.0, 11.0, 12.0, 13.0, 14.0, 15.0, 16.0, 17.0, 18.0, 19.0, 20.0], \"line\": {\"color\": \"rgb(191,211,230)\"}, \"type\": \"scatter\"}, {\"showlegend\": true, \"legendgroup\": \"3\", \"name\": \"3\", \"y\": [3.943979769102442, 3.076059073177927, 2.1598638622976196, 2.59629196878533, 2.384454438915147, 4.461736485491485, 2.891700588951761, 2.332575412698105, 1.979029641575959, 3.6976501548655643, 2.555390433424583, 2.4988013153041027, 2.493268924085992, 3.136758179638869, 2.6650840665461257, 3.635571203123541, 2.404206354438206, 2.9432679781095765, 5.07380840572859, 2.696549882497268], \"x\": [1.0, 2.0, 3.0, 4.0, 5.0, 6.0, 7.0, 8.0, 9.0, 10.0, 11.0, 12.0, 13.0, 14.0, 15.0, 16.0, 17.0, 18.0, 19.0, 20.0], \"line\": {\"color\": \"rgb(158,188,218)\"}, \"type\": \"scatter\"}, {\"showlegend\": true, \"legendgroup\": \"4\", \"name\": \"4\", \"y\": [5.392857407785497, 4.244411448058894, 4.196856505518652, 4.99843362867311, 3.370927830403633, 5.224168455023615, 2.246367669805071, 6.400887804507449, 2.9191584010885148, 3.925125415605781, 2.092765912022039, 5.346244457304897, 4.531411273571326, 5.4559047450388976, 2.075316298443317, 3.7418291673584814, 3.071395595245386, 4.355364423505675, 2.7834561336346857, 3.026610325481878], \"x\": [1.0, 2.0, 3.0, 4.0, 5.0, 6.0, 7.0, 8.0, 9.0, 10.0, 11.0, 12.0, 13.0, 14.0, 15.0, 16.0, 17.0, 18.0, 19.0, 20.0], \"line\": {\"color\": \"rgb(140,150,198)\"}, \"type\": \"scatter\"}], {}, {\"linkText\": \"Export to plot.ly\", \"showLink\": true})});</script>"
      ],
      "text/plain": [
       "<IPython.core.display.HTML object>"
      ]
     },
     "metadata": {},
     "output_type": "display_data"
    }
   ],
   "source": [
    "import numpy as np\n",
    "import plotly as py\n",
    "import colorlover as cl\n",
    "from IPython.display import HTML\n",
    "from collections import OrderedDict\n",
    "from plotly.offline import download_plotlyjs, init_notebook_mode, iplot, plot\n",
    "from plotly import tools\n",
    "import plotly.plotly as py\n",
    "from plotly.graph_objs import *\n",
    "\n",
    "init_notebook_mode(connected=True)\n",
    "\n",
    "\n",
    "def make_timeseries(nf, no):\n",
    "    \"\"\"\n",
    "    A function to create random normally distributed timeseries, of dimensions [nf x no].\n",
    "    \n",
    "    Params:\n",
    "        - nf: the number of features.\n",
    "        - no: the number of observations of each feature.\n",
    "    \"\"\"\n",
    "    ar = np.zeros((nf, no)) # initialize the empty array\n",
    "    # looping over the features\n",
    "    for i in range(0, nf):\n",
    "        ar[i,:] = np.random.normal(size=no, loc=i)  # generate data with no observations of normally distributed data with $i$ mean and unit variance\n",
    "    return ar\n",
    "\n",
    "nf = 5\n",
    "no = 20\n",
    "ts = make_timeseries(nf, no)\n",
    "\n",
    "cols = cl.scales['9']['seq']['BuPu']\n",
    "cols2 = OrderedDict()\n",
    "for idx in range(0, nf):\n",
    "    cols2[idx] = cols[idx]\n",
    "cols = cols2\n",
    "HTML(cl.to_html(cols.values()))\n",
    "data = []\n",
    "\n",
    "labs = ['']\n",
    "for i in range(0, nf):\n",
    "    trace = Scatter(\n",
    "        x = np.linspace(1, no, no),\n",
    "        y = ts[i,:],\n",
    "        line = Line(color=cols[i]),\n",
    "        name = str(i),\n",
    "        showlegend=True,\n",
    "        legendgroup=str(i)\n",
    "    )\n",
    "    data.append(trace)\n",
    "iplot(data)"
   ]
  },
  {
   "cell_type": "markdown",
   "metadata": {},
   "source": [
    "As you can see, the figure above is very bare-bones. To prettify, we might want to add x and y legends, titles, and more descripitive labels for our timeseries lines. We can do this as follows:"
   ]
  },
  {
   "cell_type": "code",
   "execution_count": 33,
   "metadata": {},
   "outputs": [
    {
     "data": {
      "text/html": [
       "<div id=\"acc24800-bcae-47bd-8ebe-160bb0744dc3\" style=\"height: 525; width: 100%;\" class=\"plotly-graph-div\"></div><script type=\"text/javascript\">require([\"plotly\"], function(Plotly) { window.PLOTLYENV=window.PLOTLYENV || {};window.PLOTLYENV.BASE_URL=\"https://plot.ly\";Plotly.newPlot(\"acc24800-bcae-47bd-8ebe-160bb0744dc3\", [{\"y\": [0.8626656242491945, -0.14058322436110945, -0.10480285529828647, 0.5020831937039201, -0.3910533382271789, 0.07706703214367647, 0.33496125119529, -2.1320034514221544, -1.0365405439394917, -0.5599905134540718, 0.41492878196778865, 0.8018717526803221, -0.48922780376514496, 1.296416795517187, 0.5723033724837854, -1.30979414634041, -0.09621637392855409, -0.5954679822764081, 0.8296611274382608, -0.8013479250802523], \"x\": [1.0, 2.0, 3.0, 4.0, 5.0, 6.0, 7.0, 8.0, 9.0, 10.0, 11.0, 12.0, 13.0, 14.0, 15.0, 16.0, 17.0, 18.0, 19.0, 20.0], \"line\": {\"color\": \"rgb(247,252,253)\"}, \"type\": \"scatter\", \"name\": \"Frontal Lobe\"}, {\"y\": [2.4120544549144096, 0.9084097308110843, 0.12749009103860398, 1.6203438480599535, 1.1766139083843676, -0.04075183436682561, 1.2483995248668194, 1.608647493447514, 0.5204287828183605, 0.9647719628496629, 0.7396419491517223, -0.024879194539927152, -0.16000851265406246, 1.2522582809280374, 1.1256312585910848, 1.9176438294653533, -1.4590546225088015, 0.4464810727759424, 0.7965543412725568, -0.5117217686001008], \"x\": [1.0, 2.0, 3.0, 4.0, 5.0, 6.0, 7.0, 8.0, 9.0, 10.0, 11.0, 12.0, 13.0, 14.0, 15.0, 16.0, 17.0, 18.0, 19.0, 20.0], \"line\": {\"color\": \"rgb(224,236,244)\"}, \"type\": \"scatter\", \"name\": \"Parietal Lobe\"}, {\"y\": [1.4730352078193847, 1.2211037643633063, 1.2865669883983333, 2.534656572955607, 3.192731680182348, 2.5866616155040876, 2.5472744136387986, 1.1948804842916765, 2.0088236720205024, 2.5289607005508117, 2.470214647546093, 1.6757187882238056, 1.2420601365817978, 2.0254319847431854, 2.4172447041779908, 2.4099416840474497, 4.0351414179909675, 1.8433904456177137, 2.4929316010540052, 4.34410329943418], \"x\": [1.0, 2.0, 3.0, 4.0, 5.0, 6.0, 7.0, 8.0, 9.0, 10.0, 11.0, 12.0, 13.0, 14.0, 15.0, 16.0, 17.0, 18.0, 19.0, 20.0], \"line\": {\"color\": \"rgb(191,211,230)\"}, \"type\": \"scatter\", \"name\": \"Occipital Lobe\"}, {\"y\": [3.943979769102442, 3.076059073177927, 2.1598638622976196, 2.59629196878533, 2.384454438915147, 4.461736485491485, 2.891700588951761, 2.332575412698105, 1.979029641575959, 3.6976501548655643, 2.555390433424583, 2.4988013153041027, 2.493268924085992, 3.136758179638869, 2.6650840665461257, 3.635571203123541, 2.404206354438206, 2.9432679781095765, 5.07380840572859, 2.696549882497268], \"x\": [1.0, 2.0, 3.0, 4.0, 5.0, 6.0, 7.0, 8.0, 9.0, 10.0, 11.0, 12.0, 13.0, 14.0, 15.0, 16.0, 17.0, 18.0, 19.0, 20.0], \"line\": {\"color\": \"rgb(158,188,218)\"}, \"type\": \"scatter\", \"name\": \"Temporal Lobe\"}, {\"y\": [5.392857407785497, 4.244411448058894, 4.196856505518652, 4.99843362867311, 3.370927830403633, 5.224168455023615, 2.246367669805071, 6.400887804507449, 2.9191584010885148, 3.925125415605781, 2.092765912022039, 5.346244457304897, 4.531411273571326, 5.4559047450388976, 2.075316298443317, 3.7418291673584814, 3.071395595245386, 4.355364423505675, 2.7834561336346857, 3.026610325481878], \"x\": [1.0, 2.0, 3.0, 4.0, 5.0, 6.0, 7.0, 8.0, 9.0, 10.0, 11.0, 12.0, 13.0, 14.0, 15.0, 16.0, 17.0, 18.0, 19.0, 20.0], \"line\": {\"color\": \"rgb(140,150,198)\"}, \"type\": \"scatter\", \"name\": \"Brainstem\"}], {\"title\": \"EEG Timeseries Plot\", \"xaxis\": {\"title\": \"Time (s)\"}, \"yaxis\": {\"title\": \"Intensity (V)\"}}, {\"linkText\": \"Export to plot.ly\", \"showLink\": true})});</script>"
      ],
      "text/plain": [
       "<IPython.core.display.HTML object>"
      ]
     },
     "metadata": {},
     "output_type": "display_data"
    }
   ],
   "source": [
    "labs = ['Frontal Lobe', 'Parietal Lobe', 'Occipital Lobe', 'Temporal Lobe', 'Brainstem']\n",
    "\n",
    "data = []\n",
    "for i in range(0, nf):\n",
    "    trace = Scatter(\n",
    "        x = np.linspace(1, no, no),\n",
    "        y = ts[i,:],\n",
    "        line = Line(color=cols[i]),\n",
    "        name = labs[i]\n",
    "    )\n",
    "    data.append(trace)\n",
    "    \n",
    "layout = Layout(\n",
    "    title = 'EEG Timeseries Plot',\n",
    "    xaxis = dict(title=\"Time (s)\"),\n",
    "    yaxis=dict(title=\"Intensity (V)\")\n",
    ")\n",
    "    \n",
    "fig = Figure(data=data, layout=layout)\n",
    "iplot(fig)"
   ]
  },
  {
   "cell_type": "markdown",
   "metadata": {},
   "source": [
    "# Plotting a heat map\n",
    "\n",
    "Here, we will take the pairwise correlation of our timeseries, and then plot it as a heatmap:"
   ]
  },
  {
   "cell_type": "code",
   "execution_count": 40,
   "metadata": {},
   "outputs": [
    {
     "name": "stdout",
     "output_type": "stream",
     "text": [
      "[[ 1.          0.04872539  0.01320359  0.30540732 -0.09015031]\n",
      " [ 0.04872539  1.         -0.40615845  0.24884386  0.21241744]\n",
      " [ 0.01320359 -0.40615845  1.          0.0348265  -0.52062781]\n",
      " [ 0.30540732  0.24884386  0.0348265   1.          0.07611111]\n",
      " [-0.09015031  0.21241744 -0.52062781  0.07611111  1.        ]]\n"
     ]
    },
    {
     "data": {
      "text/html": [
       "<div id=\"aa9bf550-12a3-4c52-9b62-308b834db93b\" style=\"height: 525; width: 100%;\" class=\"plotly-graph-div\"></div><script type=\"text/javascript\">require([\"plotly\"], function(Plotly) { window.PLOTLYENV=window.PLOTLYENV || {};window.PLOTLYENV.BASE_URL=\"https://plot.ly\";Plotly.newPlot(\"aa9bf550-12a3-4c52-9b62-308b834db93b\", [{\"y\": [\"Frontal Lobe\", \"Parietal Lobe\", \"Occipital Lobe\", \"Temporal Lobe\", \"Brainstem\"], \"x\": [\"Frontal Lobe\", \"Parietal Lobe\", \"Occipital Lobe\", \"Temporal Lobe\", \"Brainstem\"], \"z\": [[1.0, 0.04872539095055501, 0.013203590948444477, 0.305407318966521, -0.09015031026923932], [0.048725390950555, 1.0, -0.40615844666163814, 0.2488438572655782, 0.21241743678588465], [0.013203590948444477, -0.4061584466616382, 1.0, 0.034826499916965604, -0.5206278105551578], [0.305407318966521, 0.24884385726557817, 0.0348264999169656, 1.0, 0.0761111074928943], [-0.09015031026923931, 0.21241743678588468, -0.5206278105551578, 0.0761111074928943, 1.0]], \"type\": \"heatmap\"}], {}, {\"linkText\": \"Export to plot.ly\", \"showLink\": true})});</script>"
      ],
      "text/plain": [
       "<IPython.core.display.HTML object>"
      ]
     },
     "metadata": {},
     "output_type": "display_data"
    }
   ],
   "source": [
    "cmtx = np.corrcoef(ts)\n",
    "print(cmtx)\n",
    "trace = Heatmap(z = cmtx, x=labs, y=labs)\n",
    "data = [trace]\n",
    "iplot(data)"
   ]
  },
  {
   "cell_type": "code",
   "execution_count": null,
   "metadata": {
    "collapsed": true
   },
   "outputs": [],
   "source": []
  }
 ],
 "metadata": {
  "kernelspec": {
   "display_name": "Python 2",
   "language": "python",
   "name": "python2"
  },
  "language_info": {
   "codemirror_mode": {
    "name": "ipython",
    "version": 2
   },
   "file_extension": ".py",
   "mimetype": "text/x-python",
   "name": "python",
   "nbconvert_exporter": "python",
   "pygments_lexer": "ipython2",
   "version": "2.7.12"
  }
 },
 "nbformat": 4,
 "nbformat_minor": 2
}
